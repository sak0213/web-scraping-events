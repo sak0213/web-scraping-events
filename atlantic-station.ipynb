{
 "cells": [
  {
   "cell_type": "code",
   "execution_count": 23,
   "id": "1d474ef4",
   "metadata": {},
   "outputs": [],
   "source": [
    "# Imports\n",
    "from bs4 import BeautifulSoup as bs\n",
    "import requests\n",
    "import pymongo\n",
    "from splinter import Browser\n",
    "from webdriver_manager.chrome import ChromeDriverManager\n",
    "import pandas as pd\n",
    "import time"
   ]
  },
  {
   "cell_type": "code",
   "execution_count": 24,
   "id": "69abc403",
   "metadata": {},
   "outputs": [],
   "source": [
    "# Create connection, database, and collection within Mongo\n",
    "conn = 'mongodb://localhost:27017'\n",
    "client = pymongo.MongoClient(conn)\n",
    "db = client.atlstation_events_db\n",
    "collection = db.event_list"
   ]
  },
  {
   "cell_type": "code",
   "execution_count": 25,
   "id": "c75e56ba",
   "metadata": {},
   "outputs": [
    {
     "name": "stderr",
     "output_type": "stream",
     "text": [
      "\n",
      "\n",
      "====== WebDriver manager ======\n",
      "Current google-chrome version is 93.0.4577\n",
      "Get LATEST driver version for 93.0.4577\n",
      "Driver [/Users/tatianafrattale/.wdm/drivers/chromedriver/mac64/93.0.4577.15/chromedriver] found in cache\n"
     ]
    }
   ],
   "source": [
    "# Set up chrome driver\n",
    "executable_path = {'executable_path': ChromeDriverManager().install()}\n",
    "browser = Browser('chrome', **executable_path, headless=False)"
   ]
  },
  {
   "cell_type": "code",
   "execution_count": 26,
   "id": "10479f6b",
   "metadata": {},
   "outputs": [],
   "source": [
    "# Url set up\n",
    "url = \"https://atlanticstation.com/events/list/\"\n",
    "request = requests.get(url)\n",
    "browser.visit(url)\n",
    "\n",
    "# Time sleep that allows for browser to fully load html\n",
    "time.sleep(10)"
   ]
  },
  {
   "cell_type": "code",
   "execution_count": 27,
   "id": "92d57e2f",
   "metadata": {},
   "outputs": [],
   "source": [
    "# HTML parser\n",
    "html = browser.html\n",
    "soup = bs(html, \"html.parser\")\n",
    "\n",
    "# Close browser session\n",
    "browser.quit()"
   ]
  },
  {
   "cell_type": "code",
   "execution_count": 28,
   "id": "ddc19349",
   "metadata": {},
   "outputs": [],
   "source": [
    "# Make empty lists for data\n",
    "event_name = []\n",
    "event_description = []\n",
    "event_date = []\n",
    "event_time = []\n",
    "event_link= []"
   ]
  },
  {
   "cell_type": "code",
   "execution_count": 29,
   "id": "c569933b",
   "metadata": {},
   "outputs": [],
   "source": [
    "# Save all event cards to a variable\n",
    "events = soup.find_all('div', class_='event-card')"
   ]
  },
  {
   "cell_type": "code",
   "execution_count": 30,
   "id": "06ed63bf",
   "metadata": {},
   "outputs": [
    {
     "ename": "NameError",
     "evalue": "name 'result' is not defined",
     "output_type": "error",
     "traceback": [
      "\u001b[0;31m---------------------------------------------------------------------------\u001b[0m",
      "\u001b[0;31mNameError\u001b[0m                                 Traceback (most recent call last)",
      "\u001b[0;32m<ipython-input-30-79465fe801a7>\u001b[0m in \u001b[0;36m<module>\u001b[0;34m\u001b[0m\n\u001b[1;32m      2\u001b[0m \u001b[0;32mfor\u001b[0m \u001b[0mevent\u001b[0m \u001b[0;32min\u001b[0m \u001b[0mevents\u001b[0m\u001b[0;34m:\u001b[0m\u001b[0;34m\u001b[0m\u001b[0;34m\u001b[0m\u001b[0m\n\u001b[1;32m      3\u001b[0m     \u001b[0;31m# Find event name\u001b[0m\u001b[0;34m\u001b[0m\u001b[0;34m\u001b[0m\u001b[0;34m\u001b[0m\u001b[0m\n\u001b[0;32m----> 4\u001b[0;31m     \u001b[0mname\u001b[0m \u001b[0;34m=\u001b[0m \u001b[0mresult\u001b[0m\u001b[0;34m.\u001b[0m\u001b[0mfind\u001b[0m\u001b[0;34m(\u001b[0m\u001b[0;34m'div'\u001b[0m\u001b[0;34m,\u001b[0m \u001b[0mclass_\u001b[0m\u001b[0;34m=\u001b[0m\u001b[0;34m'event-card-title'\u001b[0m\u001b[0;34m)\u001b[0m\u001b[0;34m.\u001b[0m\u001b[0mtext\u001b[0m\u001b[0;34m\u001b[0m\u001b[0;34m\u001b[0m\u001b[0m\n\u001b[0m\u001b[1;32m      5\u001b[0m     \u001b[0;31m# Find event description\u001b[0m\u001b[0;34m\u001b[0m\u001b[0;34m\u001b[0m\u001b[0;34m\u001b[0m\u001b[0m\n\u001b[1;32m      6\u001b[0m     \u001b[0mdescrip\u001b[0m \u001b[0;34m=\u001b[0m \u001b[0mresult\u001b[0m\u001b[0;34m.\u001b[0m\u001b[0mfind\u001b[0m\u001b[0;34m(\u001b[0m\u001b[0;34m'p'\u001b[0m\u001b[0;34m,\u001b[0m \u001b[0mclass_\u001b[0m\u001b[0;34m=\u001b[0m\u001b[0;34m'hover-card-body'\u001b[0m\u001b[0;34m)\u001b[0m\u001b[0;34m.\u001b[0m\u001b[0mtext\u001b[0m\u001b[0;34m\u001b[0m\u001b[0;34m\u001b[0m\u001b[0m\n",
      "\u001b[0;31mNameError\u001b[0m: name 'result' is not defined"
     ]
    }
   ],
   "source": [
    "# Loop through all events to pull necessary info\n",
    "for event in events:\n",
    "    # Find event name\n",
    "    name = event.find('div', class_='event-card-title').text\n",
    "    # Find event description\n",
    "    descrip = event.find('p', class_='hover-card-body').text\n",
    "    # Find date\n",
    "    date = event.find('div', class_='event-card-date').text\n",
    "    # Find time\n",
    "    time = event.find('div', class_='hover-card-content').text\n",
    "    # Find link to event\n",
    "    link = event.find('a', class_='full-link')['href']\n",
    "    \n",
    "    # Append data to empty lists\n",
    "    event_name.append(name)\n",
    "    event_description.append(descrip)\n",
    "    event_date.append(date)\n",
    "    event_time.append(time)\n",
    "    event_link.append(link)\n",
    "    \n",
    "    # Create dictionary\n",
    "    atl_events= {\n",
    "        \"event_name\": name,\n",
    "        \"event_description\": descrip,\n",
    "        \"event_date\": date,\n",
    "        \"event_time\": time,\n",
    "        \"event_link\": link\n",
    "    }\n",
    "    \n",
    "    # Insert data into collection in MongoDB\n",
    "    collection.insert_one(atl_events)\n",
    "    \n",
    "    \n"
   ]
  },
  {
   "cell_type": "code",
   "execution_count": null,
   "id": "c7dd8ad7",
   "metadata": {},
   "outputs": [],
   "source": []
  }
 ],
 "metadata": {
  "kernelspec": {
   "display_name": "Python 3",
   "language": "python",
   "name": "python3"
  },
  "language_info": {
   "codemirror_mode": {
    "name": "ipython",
    "version": 3
   },
   "file_extension": ".py",
   "mimetype": "text/x-python",
   "name": "python",
   "nbconvert_exporter": "python",
   "pygments_lexer": "ipython3",
   "version": "3.8.8"
  }
 },
 "nbformat": 4,
 "nbformat_minor": 5
}

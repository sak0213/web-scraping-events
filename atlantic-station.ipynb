{
 "cells": [
  {
   "cell_type": "code",
   "execution_count": 16,
   "id": "c9f0d35c",
   "metadata": {},
   "outputs": [],
   "source": [
    "# Imports\n",
    "from bs4 import BeautifulSoup as bs\n",
    "import requests\n",
    "import pymongo\n",
    "from splinter import Browser\n",
    "from webdriver_manager.chrome import ChromeDriverManager\n",
    "import pandas as pd\n",
    "import time"
   ]
  },
  {
   "cell_type": "code",
   "execution_count": 17,
   "id": "0c37d4eb",
   "metadata": {},
   "outputs": [],
   "source": [
    "# Create connection, database, and collection within Mongo\n",
    "conn = 'mongodb://localhost:27017'\n",
    "client = pymongo.MongoClient(conn)\n",
    "db = client.atlstation_events_db\n",
    "collection = db.event_list"
   ]
  },
  {
   "cell_type": "code",
   "execution_count": 18,
   "id": "ee033b83",
   "metadata": {},
   "outputs": [
    {
     "name": "stderr",
     "output_type": "stream",
     "text": [
      "\n",
      "\n",
      "====== WebDriver manager ======\n",
      "Current google-chrome version is 93.0.4577\n",
      "Get LATEST driver version for 93.0.4577\n",
      "Driver [/Users/tatianafrattale/.wdm/drivers/chromedriver/mac64/93.0.4577.15/chromedriver] found in cache\n"
     ]
    }
   ],
   "source": [
    "# Set up chrome driver\n",
    "executable_path = {'executable_path': ChromeDriverManager().install()}\n",
    "browser = Browser('chrome', **executable_path, headless=False)"
   ]
  },
  {
   "cell_type": "code",
   "execution_count": 19,
   "id": "846948c4",
   "metadata": {},
   "outputs": [],
   "source": [
    "# Url set up\n",
    "url = \"https://atlanticstation.com/events/list/\"\n",
    "request = requests.get(url)\n",
    "browser.visit(url)\n",
    "\n",
    "# Time sleep that allows for browser to fully load html\n",
    "time.sleep(10)"
   ]
  },
  {
   "cell_type": "code",
   "execution_count": 20,
   "id": "32d55b9f",
   "metadata": {},
   "outputs": [],
   "source": [
    "# HTML parser\n",
    "html = browser.html\n",
    "soup = bs(html, \"html.parser\")\n",
    "\n",
    "# Close browser session\n",
    "browser.quit()"
   ]
  },
  {
   "cell_type": "code",
   "execution_count": null,
   "id": "c0436552",
   "metadata": {},
   "outputs": [],
   "source": [
    "# Make empty lists for data\n",
    "event_name = []\n",
    "event_description = []\n",
    "event_date = []\n",
    "event_time = []\n",
    "event_link= []"
   ]
  },
  {
   "cell_type": "code",
   "execution_count": 21,
   "id": "f58b470d",
   "metadata": {},
   "outputs": [],
   "source": [
    "# Save all event cards to a variable\n",
    "events = soup.find_all('div', class_='event-card')"
   ]
  },
  {
   "cell_type": "code",
   "execution_count": 22,
   "id": "68fd3041",
   "metadata": {},
   "outputs": [
    {
     "ename": "SyntaxError",
     "evalue": "positional argument follows keyword argument (<ipython-input-22-b77501e4dee1>, line 6)",
     "output_type": "error",
     "traceback": [
      "\u001b[0;36m  File \u001b[0;32m\"<ipython-input-22-b77501e4dee1>\"\u001b[0;36m, line \u001b[0;32m6\u001b[0m\n\u001b[0;31m    descrip = result.find('div', class_='hover-card-body', 'p').text\u001b[0m\n\u001b[0m                                                           ^\u001b[0m\n\u001b[0;31mSyntaxError\u001b[0m\u001b[0;31m:\u001b[0m positional argument follows keyword argument\n"
     ]
    }
   ],
   "source": [
    "# Loop through all events to pull necessary info\n",
    "for event in events:\n",
    "    # Find event name\n",
    "    name = result.find('div', class_='event-card-title').text\n",
    "    # Find event description\n",
    "    descrip = result.find('p', class_='hover-card-body').text\n",
    "    # Find date\n",
    "    date = result.find('div', class_='event-card-date').text\n",
    "    # Find time\n",
    "    time = result.find('div', class_='hover-card-content').text\n",
    "    # Find link to event\n",
    "    link = result.find('a', class_='full-link')['href']\n",
    "    \n",
    "    # Append data to empty lists\n",
    "    event_name.append(name)\n",
    "    event_description.append(descrip)\n",
    "    event_date.append(date)\n",
    "    event_time.append(time)\n",
    "    event_link.append(link)\n",
    "    \n",
    "    # Create dictionary\n",
    "    atl_events= {\n",
    "        \"event_name\": name,\n",
    "        \"event_description\": descrip,\n",
    "        \"event_date\": date,\n",
    "        \"event_time\": time,\n",
    "        \"event_link\": link\n",
    "    }\n",
    "    \n",
    "    # Insert data into collection in MongoDB\n",
    "    collection.insert_one(atl_events)\n",
    "    \n",
    "    \n"
   ]
  },
  {
   "cell_type": "code",
   "execution_count": null,
   "id": "7c01c6fb",
   "metadata": {},
   "outputs": [],
   "source": []
  }
 ],
 "metadata": {
  "kernelspec": {
   "display_name": "Python 3",
   "language": "python",
   "name": "python3"
  },
  "language_info": {
   "codemirror_mode": {
    "name": "ipython",
    "version": 3
   },
   "file_extension": ".py",
   "mimetype": "text/x-python",
   "name": "python",
   "nbconvert_exporter": "python",
   "pygments_lexer": "ipython3",
   "version": "3.8.8"
  }
 },
 "nbformat": 4,
 "nbformat_minor": 5
}

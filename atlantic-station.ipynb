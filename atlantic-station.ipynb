{
 "cells": [
  {
   "cell_type": "code",
   "execution_count": 42,
   "id": "11e9205b",
   "metadata": {},
   "outputs": [],
   "source": [
    "# Imports\n",
    "from bs4 import BeautifulSoup as bs\n",
    "import requests\n",
    "import pymongo\n",
    "from splinter import Browser\n",
    "from webdriver_manager.chrome import ChromeDriverManager\n",
    "import pandas as pd\n",
    "import time"
   ]
  },
  {
   "cell_type": "code",
   "execution_count": 43,
   "id": "aba851b3",
   "metadata": {},
   "outputs": [],
   "source": [
    "# Create connection, database, and collection within Mongo\n",
    "conn = 'mongodb://localhost:27017'\n",
    "client = pymongo.MongoClient(conn)\n",
    "db = client.atlstation_events_db\n",
    "collection = db.event_list"
   ]
  },
  {
   "cell_type": "code",
   "execution_count": 44,
   "id": "4499203e",
   "metadata": {},
   "outputs": [
    {
     "name": "stderr",
     "output_type": "stream",
     "text": [
      "\n",
      "\n",
      "====== WebDriver manager ======\n",
      "Current google-chrome version is 93.0.4577\n",
      "Get LATEST driver version for 93.0.4577\n",
      "Driver [/Users/tatianafrattale/.wdm/drivers/chromedriver/mac64/93.0.4577.15/chromedriver] found in cache\n"
     ]
    }
   ],
   "source": [
    "# Set up chrome driver\n",
    "executable_path = {'executable_path': ChromeDriverManager().install()}\n",
    "browser = Browser('chrome', **executable_path, headless=False)"
   ]
  },
  {
   "cell_type": "code",
   "execution_count": 45,
   "id": "ae40e35b",
   "metadata": {},
   "outputs": [],
   "source": [
    "# Url set up\n",
    "url = \"https://atlanticstation.com/events/list/\"\n",
    "request = requests.get(url)\n",
    "browser.visit(url)\n",
    "\n",
    "# Time sleep that allows for browser to fully load html\n",
    "time.sleep(10)"
   ]
  },
  {
   "cell_type": "code",
   "execution_count": 46,
   "id": "776d72ab",
   "metadata": {},
   "outputs": [],
   "source": [
    "# HTML parser\n",
    "html = browser.html\n",
    "soup = bs(html, \"html.parser\")\n",
    "\n",
    "# Close browser session\n",
    "browser.quit()"
   ]
  },
  {
   "cell_type": "code",
   "execution_count": 47,
   "id": "dc8f4cee",
   "metadata": {},
   "outputs": [],
   "source": [
    "# Make empty lists for data\n",
    "event_name = []\n",
    "event_description = []\n",
    "event_date = []\n",
    "event_time = []\n",
    "event_link= []"
   ]
  },
  {
   "cell_type": "code",
   "execution_count": 48,
   "id": "7b8d77b4",
   "metadata": {},
   "outputs": [],
   "source": [
    "# Save all event cards to a variable\n",
    "events = soup.find_all('div', class_='event-card')"
   ]
  },
  {
   "cell_type": "code",
   "execution_count": 49,
   "id": "e9b0e3c6",
   "metadata": {},
   "outputs": [],
   "source": [
    "# Loop through all events to pull necessary info\n",
    "for event in events:\n",
    "    # Find event name\n",
    "    name = event.find('div', class_='event-card-title').text\n",
    "    # Find event description\n",
    "    descrip = event.find('div', class_='hover-card-body').text\n",
    "    # Find date\n",
    "    date = event.find('div', class_='event-card-date').text\n",
    "    # Find time\n",
    "    time = event.find('div', class_='hover-card-content').text\n",
    "    # Find link to event\n",
    "    link = event.find('a', class_='full-link')['href']\n",
    "    \n",
    "    # Append data to empty lists\n",
    "    event_name.append(name)\n",
    "    event_description.append(descrip)\n",
    "    event_date.append(date)\n",
    "    event_time.append(time)\n",
    "    event_link.append(link)\n",
    "    \n",
    "    # Create dictionary\n",
    "    atl_events= {\n",
    "        \"event_name\": name,\n",
    "        \"event_description\": descrip,\n",
    "        \"event_date\": date,\n",
    "        \"event_time\": time,\n",
    "        \"event_link\": link\n",
    "    }\n",
    "    \n",
    "    # Insert data into collection in MongoDB\n",
    "    collection.insert_one(atl_events)\n",
    "    \n",
    "    \n"
   ]
  },
  {
   "cell_type": "code",
   "execution_count": null,
   "id": "c2c37a75",
   "metadata": {},
   "outputs": [],
   "source": []
  }
 ],
 "metadata": {
  "kernelspec": {
   "display_name": "Python 3",
   "language": "python",
   "name": "python3"
  },
  "language_info": {
   "codemirror_mode": {
    "name": "ipython",
    "version": 3
   },
   "file_extension": ".py",
   "mimetype": "text/x-python",
   "name": "python",
   "nbconvert_exporter": "python",
   "pygments_lexer": "ipython3",
   "version": "3.8.8"
  }
 },
 "nbformat": 4,
 "nbformat_minor": 5
}

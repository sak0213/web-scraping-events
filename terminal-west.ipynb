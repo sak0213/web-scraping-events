{
 "cells": [
  {
   "cell_type": "code",
   "execution_count": 95,
   "metadata": {},
   "outputs": [],
   "source": [
    "from bs4 import BeautifulSoup as bs\n",
    "import requests\n",
    "import pymongo\n",
    "from splinter import Browser\n",
    "from webdriver_manager.chrome import ChromeDriverManager\n",
    "import pandas as pd\n",
    "import time"
   ]
  },
  {
   "cell_type": "code",
   "execution_count": 96,
   "metadata": {},
   "outputs": [],
   "source": [
    "conn = 'mongodb://localhost:27017'\n",
    "client = pymongo.MongoClient(conn)\n",
    "db = client.atl_events_db\n",
    "collection = db.events"
   ]
  },
  {
   "cell_type": "code",
   "execution_count": 97,
   "metadata": {},
   "outputs": [
    {
     "name": "stderr",
     "output_type": "stream",
     "text": [
      "\n",
      "\n",
      "====== WebDriver manager ======\n",
      "Current google-chrome version is 93.0.4577\n",
      "Get LATEST driver version for 93.0.4577\n",
      "Driver [C:\\Users\\steve\\.wdm\\drivers\\chromedriver\\win32\\93.0.4577.15\\chromedriver.exe] found in cache\n"
     ]
    }
   ],
   "source": [
    "#set up chrome\n",
    "executable_path = {'executable_path': ChromeDriverManager().install()}\n",
    "browser = Browser('chrome', **executable_path, headless=False)"
   ]
  },
  {
   "cell_type": "code",
   "execution_count": 98,
   "metadata": {},
   "outputs": [],
   "source": [
    "#visit url\n",
    "url = \"https://terminalwestatl.com/calendar\"\n",
    "request = requests.get(url)\n",
    "browser.visit(url)"
   ]
  },
  {
   "cell_type": "code",
   "execution_count": 99,
   "metadata": {},
   "outputs": [],
   "source": [
    "#wait for browser to load calendar into html\n",
    "time.sleep(5)"
   ]
  },
  {
   "cell_type": "code",
   "execution_count": 100,
   "metadata": {},
   "outputs": [],
   "source": [
    "#parse HTML\n",
    "html = browser.html\n",
    "soup = bs(html, \"html.parser\")\n",
    "browser.quit()"
   ]
  },
  {
   "cell_type": "code",
   "execution_count": 101,
   "metadata": {},
   "outputs": [],
   "source": [
    "#make lists for dataframe\n",
    "event_name = []\n",
    "event_desc = []\n",
    "event_date = []\n",
    "event_time = []\n",
    "event_link = []"
   ]
  },
  {
   "cell_type": "code",
   "execution_count": 102,
   "metadata": {},
   "outputs": [],
   "source": [
    "#make list of all the event cards\n",
    "results = soup.find_all('div', class_='c-axs-event-card__wrapper')"
   ]
  },
  {
   "cell_type": "code",
   "execution_count": 103,
   "metadata": {},
   "outputs": [],
   "source": [
    "#loop through event cards\n",
    "for result in results:\n",
    "\n",
    "    #find Headlining artist or event title\n",
    "    title = result.find('div', class_='c-axs-event-card__title c-axs-event-card__title7124').text\n",
    "    #find opening artists and make an event description\n",
    "    try:\n",
    "        supporting = result.find('div', class_=\"c-axs-event-card__supporting-text c-axs-event-card__supporting-text7124\").text\n",
    "        if len(supporting) > 0:\n",
    "            description = f'{title} performing with {supporting}'\n",
    "    except:\n",
    "        supporting = \"\"\n",
    "        description = \"n/a\"\n",
    "    #find date/time, then split to make a column for each\n",
    "    try:\n",
    "        date_time = result.find('p', class_='c-axs-event-card__date--showtime7124').text\n",
    "        if date_time == \"TBD\":\n",
    "            date = \"TBD\"\n",
    "            time = 'TBD'\n",
    "        else:\n",
    "            date = date_time.split(\"2021\")[0].strip()\n",
    "            time = date_time.split(\"2021\")[1].strip()\n",
    "            date = f'{date} 2021'\n",
    "    except:\n",
    "        date = \"TBD\"\n",
    "        time = 'TBD'\n",
    "    #find link\n",
    "    url = result.find('a', class_='c-axs-event-card__header c-axs-event-card__header7124')['href']\n",
    "    link = f'https://terminalwestatl.com{url}'\n",
    "\n",
    "    event_name.append(title)\n",
    "    event_desc.append(description)\n",
    "    event_date.append(date)\n",
    "    event_time.append(time)\n",
    "    event_link.append(link)\n",
    "\n",
    "    event = {\n",
    "        \"Event_name\":title,\n",
    "        \"Event_description\":description,\n",
    "        \"Event_date\":date,\n",
    "        \"Event_time\":time,\n",
    "        \"Event_link\":link\n",
    "    }\n",
    "    \n",
    "    collection.insert_one(event)\n"
   ]
  },
  {
   "cell_type": "code",
   "execution_count": 104,
   "metadata": {},
   "outputs": [
    {
     "data": {
      "text/html": [
       "<div>\n",
       "<style scoped>\n",
       "    .dataframe tbody tr th:only-of-type {\n",
       "        vertical-align: middle;\n",
       "    }\n",
       "\n",
       "    .dataframe tbody tr th {\n",
       "        vertical-align: top;\n",
       "    }\n",
       "\n",
       "    .dataframe thead th {\n",
       "        text-align: right;\n",
       "    }\n",
       "</style>\n",
       "<table border=\"1\" class=\"dataframe\">\n",
       "  <thead>\n",
       "    <tr style=\"text-align: right;\">\n",
       "      <th></th>\n",
       "      <th>Event_name</th>\n",
       "      <th>Event_description</th>\n",
       "      <th>Event_date</th>\n",
       "      <th>Event_time</th>\n",
       "      <th>Event_link</th>\n",
       "    </tr>\n",
       "  </thead>\n",
       "  <tbody>\n",
       "    <tr>\n",
       "      <th>0</th>\n",
       "      <td>Read Southall Band</td>\n",
       "      <td>Read Southall Band performing with Midnight Ri...</td>\n",
       "      <td>Wed, Sep 8, 2021</td>\n",
       "      <td>8:00 PM</td>\n",
       "      <td>https://terminalwestatl.com/events/detail?even...</td>\n",
       "    </tr>\n",
       "    <tr>\n",
       "      <th>1</th>\n",
       "      <td>Town Mountain</td>\n",
       "      <td>Town Mountain performing with Smith &amp; Calvert</td>\n",
       "      <td>Thu, Sep 9, 2021</td>\n",
       "      <td>8:00 PM</td>\n",
       "      <td>https://terminalwestatl.com/events/detail?even...</td>\n",
       "    </tr>\n",
       "    <tr>\n",
       "      <th>2</th>\n",
       "      <td>Marvel Years &amp; Maddy O'Neal</td>\n",
       "      <td>Marvel Years &amp; Maddy O'Neal performing with Pu...</td>\n",
       "      <td>Fri, Sep 10, 2021</td>\n",
       "      <td>9:00 PM</td>\n",
       "      <td>https://terminalwestatl.com/events/detail?even...</td>\n",
       "    </tr>\n",
       "    <tr>\n",
       "      <th>3</th>\n",
       "      <td>Mark Farina</td>\n",
       "      <td>Mark Farina performing with Caleb Wheels</td>\n",
       "      <td>Sat, Sep 11, 2021</td>\n",
       "      <td>9:30 PM</td>\n",
       "      <td>https://terminalwestatl.com/events/detail?even...</td>\n",
       "    </tr>\n",
       "    <tr>\n",
       "      <th>4</th>\n",
       "      <td>Emily King</td>\n",
       "      <td>n/a</td>\n",
       "      <td>Mon, Sep 13, 2021</td>\n",
       "      <td>8:00 PM</td>\n",
       "      <td>https://terminalwestatl.com/events/detail?even...</td>\n",
       "    </tr>\n",
       "  </tbody>\n",
       "</table>\n",
       "</div>"
      ],
      "text/plain": [
       "                    Event_name  \\\n",
       "0           Read Southall Band   \n",
       "1                Town Mountain   \n",
       "2  Marvel Years & Maddy O'Neal   \n",
       "3                  Mark Farina   \n",
       "4                   Emily King   \n",
       "\n",
       "                                   Event_description         Event_date  \\\n",
       "0  Read Southall Band performing with Midnight Ri...   Wed, Sep 8, 2021   \n",
       "1      Town Mountain performing with Smith & Calvert   Thu, Sep 9, 2021   \n",
       "2  Marvel Years & Maddy O'Neal performing with Pu...  Fri, Sep 10, 2021   \n",
       "3           Mark Farina performing with Caleb Wheels  Sat, Sep 11, 2021   \n",
       "4                                                n/a  Mon, Sep 13, 2021   \n",
       "\n",
       "  Event_time                                         Event_link  \n",
       "0    8:00 PM  https://terminalwestatl.com/events/detail?even...  \n",
       "1    8:00 PM  https://terminalwestatl.com/events/detail?even...  \n",
       "2    9:00 PM  https://terminalwestatl.com/events/detail?even...  \n",
       "3    9:30 PM  https://terminalwestatl.com/events/detail?even...  \n",
       "4    8:00 PM  https://terminalwestatl.com/events/detail?even...  "
      ]
     },
     "execution_count": 104,
     "metadata": {},
     "output_type": "execute_result"
    }
   ],
   "source": [
    "#make dataframe\n",
    "df = pd.DataFrame({\n",
    "    \"Event_name\":event_name,\n",
    "    \"Event_description\":event_desc,\n",
    "    \"Event_date\":event_date,\n",
    "    \"Event_time\":event_time,\n",
    "    \"Event_link\":event_link\n",
    "})"
   ]
  },
  {
   "cell_type": "code",
   "execution_count": 106,
   "metadata": {},
   "outputs": [],
   "source": [
    "df.head(5).to_csv(\"terminal_west.csv\")"
   ]
  }
 ],
 "metadata": {
  "interpreter": {
   "hash": "3b32922ae442944bae51de5c420d7545d4126864cdc0e7cb358b7d9924f39d3e"
  },
  "kernelspec": {
   "display_name": "Python 3",
   "language": "python",
   "name": "python3"
  },
  "language_info": {
   "codemirror_mode": {
    "name": "ipython",
    "version": 3
   },
   "file_extension": ".py",
   "mimetype": "text/x-python",
   "name": "python",
   "nbconvert_exporter": "python",
   "pygments_lexer": "ipython3",
   "version": "3.8.8"
  }
 },
 "nbformat": 4,
 "nbformat_minor": 2
}

{
 "cells": [
  {
   "cell_type": "code",
   "execution_count": 53,
   "source": [
    "from bs4 import BeautifulSoup as bs\r\n",
    "import requests\r\n",
    "import pymongo\r\n",
    "from splinter import Browser\r\n",
    "from webdriver_manager.chrome import ChromeDriverManager\r\n",
    "import pandas as pd\r\n",
    "import time"
   ],
   "outputs": [],
   "metadata": {}
  },
  {
   "cell_type": "code",
   "execution_count": 54,
   "source": [
    "#set up chrome\r\n",
    "executable_path = {'executable_path': ChromeDriverManager().install()}\r\n",
    "browser = Browser('chrome', **executable_path, headless=False)"
   ],
   "outputs": [
    {
     "output_type": "stream",
     "name": "stderr",
     "text": [
      "\n",
      "\n",
      "====== WebDriver manager ======\n",
      "Current google-chrome version is 93.0.4577\n",
      "Get LATEST driver version for 93.0.4577\n",
      "Driver [C:\\Users\\steve\\.wdm\\drivers\\chromedriver\\win32\\93.0.4577.15\\chromedriver.exe] found in cache\n"
     ]
    }
   ],
   "metadata": {}
  },
  {
   "cell_type": "code",
   "execution_count": 55,
   "source": [
    "#visit url\r\n",
    "url = \"https://terminalwestatl.com/calendar\"\r\n",
    "request = requests.get(url)\r\n",
    "browser.visit(url)"
   ],
   "outputs": [],
   "metadata": {}
  },
  {
   "cell_type": "code",
   "execution_count": 56,
   "source": [
    "#wait for browser to load calendar\r\n",
    "time.sleep(10)"
   ],
   "outputs": [],
   "metadata": {}
  },
  {
   "cell_type": "code",
   "execution_count": 58,
   "source": [
    "#parse HTML\r\n",
    "html = browser.html\r\n",
    "soup = bs(html, \"html.parser\")"
   ],
   "outputs": [],
   "metadata": {}
  },
  {
   "cell_type": "code",
   "execution_count": 60,
   "source": [
    "#make lists for dataframe\r\n",
    "event_name = []\r\n",
    "event_desc = []\r\n",
    "event_date = []\r\n",
    "event_time = []\r\n",
    "event_link = []"
   ],
   "outputs": [],
   "metadata": {}
  },
  {
   "cell_type": "code",
   "execution_count": null,
   "source": [
    "#make list of all the event cards\r\n",
    "results = soup.find_all('div', class_='c-axs-event-card__wrapper')"
   ],
   "outputs": [],
   "metadata": {}
  },
  {
   "cell_type": "code",
   "execution_count": 61,
   "source": [
    "#loop through event cards\r\n",
    "for result in results:\r\n",
    "    title = result.find('div', class_='c-axs-event-card__title c-axs-event-card__title7124').text\r\n",
    "    try:\r\n",
    "        supporting = result.find('div', class_=\"c-axs-event-card__supporting-text c-axs-event-card__supporting-text7124\").text\r\n",
    "        date = result.find('p', class_='c-axs-event-card__date--showtime7124').text\r\n",
    "    except:\r\n",
    "        supporting = \"\"\r\n",
    "        date = \"n/a\"\r\n",
    "    # link = result.find('div', class_='c-axs-event-card__header c-axs-event-card__header7124')['href']\r\n",
    "    if len(supporting) > 0:\r\n",
    "        description = f'{title} performing with {supporting}'\r\n",
    "    else:\r\n",
    "        description = \"n/a\"\r\n",
    "\r\n",
    "    event_name.append(title)\r\n",
    "    event_desc.append(description)\r\n",
    "    event_date.append(date)"
   ],
   "outputs": [],
   "metadata": {}
  },
  {
   "cell_type": "code",
   "execution_count": 63,
   "source": [
    "#make dataframe\r\n",
    "df = pd.DataFrame({\r\n",
    "    \"Event_Name\":event_name,\r\n",
    "    \"Event_Description\":event_desc,\r\n",
    "    \"Event_Date\":event_date\r\n",
    "})\r\n",
    "df.head(5)"
   ],
   "outputs": [
    {
     "output_type": "execute_result",
     "data": {
      "text/html": [
       "<div>\n",
       "<style scoped>\n",
       "    .dataframe tbody tr th:only-of-type {\n",
       "        vertical-align: middle;\n",
       "    }\n",
       "\n",
       "    .dataframe tbody tr th {\n",
       "        vertical-align: top;\n",
       "    }\n",
       "\n",
       "    .dataframe thead th {\n",
       "        text-align: right;\n",
       "    }\n",
       "</style>\n",
       "<table border=\"1\" class=\"dataframe\">\n",
       "  <thead>\n",
       "    <tr style=\"text-align: right;\">\n",
       "      <th></th>\n",
       "      <th>Event_Name</th>\n",
       "      <th>Event_Description</th>\n",
       "      <th>Event_Date</th>\n",
       "    </tr>\n",
       "  </thead>\n",
       "  <tbody>\n",
       "    <tr>\n",
       "      <th>0</th>\n",
       "      <td>Read Southall Band</td>\n",
       "      <td>Read Southall Band performing with Midnight Ri...</td>\n",
       "      <td>Wed, Sep 8, 2021 8:00 PM</td>\n",
       "    </tr>\n",
       "    <tr>\n",
       "      <th>1</th>\n",
       "      <td>Town Mountain</td>\n",
       "      <td>Town Mountain performing with Smith &amp; Calvert</td>\n",
       "      <td>Thu, Sep 9, 2021 8:00 PM</td>\n",
       "    </tr>\n",
       "    <tr>\n",
       "      <th>2</th>\n",
       "      <td>Marvel Years &amp; Maddy O'Neal</td>\n",
       "      <td>Marvel Years &amp; Maddy O'Neal performing with Pu...</td>\n",
       "      <td>Fri, Sep 10, 2021 9:00 PM</td>\n",
       "    </tr>\n",
       "    <tr>\n",
       "      <th>3</th>\n",
       "      <td>Mark Farina</td>\n",
       "      <td>Mark Farina performing with Caleb Wheels</td>\n",
       "      <td>Sat, Sep 11, 2021 9:30 PM</td>\n",
       "    </tr>\n",
       "    <tr>\n",
       "      <th>4</th>\n",
       "      <td>Emily King</td>\n",
       "      <td>n/a</td>\n",
       "      <td>n/a</td>\n",
       "    </tr>\n",
       "  </tbody>\n",
       "</table>\n",
       "</div>"
      ],
      "text/plain": [
       "                    Event_Name  \\\n",
       "0           Read Southall Band   \n",
       "1                Town Mountain   \n",
       "2  Marvel Years & Maddy O'Neal   \n",
       "3                  Mark Farina   \n",
       "4                   Emily King   \n",
       "\n",
       "                                   Event_Description  \\\n",
       "0  Read Southall Band performing with Midnight Ri...   \n",
       "1      Town Mountain performing with Smith & Calvert   \n",
       "2  Marvel Years & Maddy O'Neal performing with Pu...   \n",
       "3           Mark Farina performing with Caleb Wheels   \n",
       "4                                                n/a   \n",
       "\n",
       "                  Event_Date  \n",
       "0   Wed, Sep 8, 2021 8:00 PM  \n",
       "1   Thu, Sep 9, 2021 8:00 PM  \n",
       "2  Fri, Sep 10, 2021 9:00 PM  \n",
       "3  Sat, Sep 11, 2021 9:30 PM  \n",
       "4                        n/a  "
      ]
     },
     "metadata": {},
     "execution_count": 63
    }
   ],
   "metadata": {}
  },
  {
   "cell_type": "code",
   "execution_count": null,
   "source": [],
   "outputs": [],
   "metadata": {}
  }
 ],
 "metadata": {
  "orig_nbformat": 4,
  "language_info": {
   "name": "python",
   "version": "3.8.5",
   "mimetype": "text/x-python",
   "codemirror_mode": {
    "name": "ipython",
    "version": 3
   },
   "pygments_lexer": "ipython3",
   "nbconvert_exporter": "python",
   "file_extension": ".py"
  },
  "kernelspec": {
   "name": "python3",
   "display_name": "Python 3.8.5 64-bit ('base': conda)"
  },
  "interpreter": {
   "hash": "582296f84aac35676d48f873b0016f7ea59eaa42b87f7345a0b548322594b08f"
  }
 },
 "nbformat": 4,
 "nbformat_minor": 2
}
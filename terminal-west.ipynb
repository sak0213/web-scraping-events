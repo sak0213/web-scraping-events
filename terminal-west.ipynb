{
 "cells": [
  {
   "cell_type": "code",
   "execution_count": 156,
   "source": [
    "from bs4 import BeautifulSoup as bs\r\n",
    "import requests\r\n",
    "import pymongo\r\n",
    "from splinter import Browser\r\n",
    "from webdriver_manager.chrome import ChromeDriverManager\r\n",
    "import pandas as pd\r\n",
    "import time"
   ],
   "outputs": [],
   "metadata": {}
  },
  {
   "cell_type": "code",
   "execution_count": 157,
   "source": [
    "conn = 'mongodb://localhost:27017'\r\n",
    "client = pymongo.MongoClient(conn)\r\n",
    "db = client.atl_events_db\r\n",
    "collection = db.events"
   ],
   "outputs": [],
   "metadata": {}
  },
  {
   "cell_type": "code",
   "execution_count": 158,
   "source": [
    "#set up chrome\r\n",
    "executable_path = {'executable_path': ChromeDriverManager().install()}\r\n",
    "browser = Browser('chrome', **executable_path, headless=False)"
   ],
   "outputs": [
    {
     "output_type": "stream",
     "name": "stderr",
     "text": [
      "\n",
      "\n",
      "====== WebDriver manager ======\n",
      "Current google-chrome version is 93.0.4577\n",
      "Get LATEST driver version for 93.0.4577\n",
      "Get LATEST driver version for 93.0.4577\n",
      "Trying to download new driver from https://chromedriver.storage.googleapis.com/93.0.4577.15/chromedriver_win32.zip\n",
      "Driver has been saved in cache [C:\\Users\\steve\\.wdm\\drivers\\chromedriver\\win32\\93.0.4577.15]\n"
     ]
    }
   ],
   "metadata": {}
  },
  {
   "cell_type": "code",
   "execution_count": 159,
   "source": [
    "#visit url\r\n",
    "url = \"https://terminalwestatl.com/calendar\"\r\n",
    "request = requests.get(url)\r\n",
    "browser.visit(url)"
   ],
   "outputs": [],
   "metadata": {}
  },
  {
   "cell_type": "code",
   "execution_count": 160,
   "source": [
    "#wait for browser to load calendar into html\r\n",
    "time.sleep(5)"
   ],
   "outputs": [],
   "metadata": {}
  },
  {
   "cell_type": "code",
   "execution_count": 161,
   "source": [
    "#parse HTML\r\n",
    "html = browser.html\r\n",
    "soup = bs(html, \"html.parser\")\r\n",
    "browser.quit()"
   ],
   "outputs": [],
   "metadata": {}
  },
  {
   "cell_type": "code",
   "execution_count": 162,
   "source": [
    "#make lists for dataframe\r\n",
    "event_name = []\r\n",
    "event_desc = []\r\n",
    "event_date = []\r\n",
    "event_time = []\r\n",
    "event_link = []"
   ],
   "outputs": [],
   "metadata": {}
  },
  {
   "cell_type": "code",
   "execution_count": 163,
   "source": [
    "#make list of all the event cards\r\n",
    "results = soup.find_all('div', class_='c-axs-event-card__wrapper')"
   ],
   "outputs": [],
   "metadata": {}
  },
  {
   "cell_type": "code",
   "execution_count": 164,
   "source": [
    "#loop through event cards\r\n",
    "for result in results:\r\n",
    "\r\n",
    "    #find Headlining artist or event title\r\n",
    "    title = result.find('div', class_='c-axs-event-card__title c-axs-event-card__title7124').text\r\n",
    "    #find opening artists and make an event description\r\n",
    "    try:\r\n",
    "        supporting = result.find('div', class_=\"c-axs-event-card__supporting-text c-axs-event-card__supporting-text7124\").text\r\n",
    "        if len(supporting) > 0:\r\n",
    "            description = f'{title} performing with {supporting}'\r\n",
    "    except:\r\n",
    "        supporting = \"\"\r\n",
    "        description = \"n/a\"\r\n",
    "    #find date/time, then split to make a column for each\r\n",
    "    try:\r\n",
    "        date_time = result.find('p', class_='c-axs-event-card__date--showtime7124').text\r\n",
    "\r\n",
    "        date = date_time.split(\"2021\")\r\n",
    "        time = date_time.split(\"2021\")[1]\r\n",
    "    except:\r\n",
    "        date = \"TBD\"\r\n",
    "        time = 'TBD'\r\n",
    "    #find link\r\n",
    "    url = result.find('a', class_='c-axs-event-card__header c-axs-event-card__header7124')['href']\r\n",
    "    link = f'https://terminalwestatl.com{url}'\r\n",
    "\r\n",
    "    event_name.append(title)\r\n",
    "    event_desc.append(description)\r\n",
    "    event_date.append(f'{date[0]} 2021')\r\n",
    "    event_time.append(f'{date[1]}')\r\n",
    "    event_link.append(link)\r\n",
    "\r\n",
    "    event = {\r\n",
    "        \"Event_name\":title,\r\n",
    "        \"Event_description\":description,\r\n",
    "        \"Event_date\":f'{date[0]} 2021',\r\n",
    "        \"Event_time\":f'{date[1]}',\r\n",
    "        \"Event_link\":link\r\n",
    "    }\r\n",
    "    \r\n",
    "    collection.insert_one(event)\r\n"
   ],
   "outputs": [],
   "metadata": {}
  },
  {
   "cell_type": "code",
   "execution_count": 165,
   "source": [
    "#make dataframe\r\n",
    "df = pd.DataFrame({\r\n",
    "    \"Event_name\":event_name,\r\n",
    "    \"Event_description\":event_desc,\r\n",
    "    \"Event_date\":event_date,\r\n",
    "    \"Event_time\":event_time,\r\n",
    "    \"Event_link\":event_link\r\n",
    "})"
   ],
   "outputs": [],
   "metadata": {}
  },
  {
   "cell_type": "code",
   "execution_count": 166,
   "source": [
    "df.to_csv(\"terminal_west.csv\")"
   ],
   "outputs": [],
   "metadata": {}
  }
 ],
 "metadata": {
  "orig_nbformat": 4,
  "language_info": {
   "name": "python",
   "version": "3.9.6",
   "mimetype": "text/x-python",
   "codemirror_mode": {
    "name": "ipython",
    "version": 3
   },
   "pygments_lexer": "ipython3",
   "nbconvert_exporter": "python",
   "file_extension": ".py"
  },
  "kernelspec": {
   "name": "python3",
   "display_name": "Python 3.9.6 64-bit ('PythonData': conda)"
  },
  "interpreter": {
   "hash": "3b32922ae442944bae51de5c420d7545d4126864cdc0e7cb358b7d9924f39d3e"
  }
 },
 "nbformat": 4,
 "nbformat_minor": 2
}
{
 "cells": [
  {
   "cell_type": "code",
   "execution_count": 95,
   "source": [
    "from bs4 import BeautifulSoup as bs\r\n",
    "import requests\r\n",
    "import pymongo\r\n",
    "from splinter import Browser\r\n",
    "from webdriver_manager.chrome import ChromeDriverManager\r\n",
    "import pandas as pd\r\n",
    "import time"
   ],
   "outputs": [],
   "metadata": {}
  },
  {
   "cell_type": "code",
   "execution_count": 96,
   "source": [
    "conn = 'mongodb://localhost:27017'\r\n",
    "client = pymongo.MongoClient(conn)\r\n",
    "db = client.atl_events_db\r\n",
    "collection = db.events"
   ],
   "outputs": [],
   "metadata": {}
  },
  {
   "cell_type": "code",
   "execution_count": 97,
   "source": [
    "#set up chrome\r\n",
    "executable_path = {'executable_path': ChromeDriverManager().install()}\r\n",
    "browser = Browser('chrome', **executable_path, headless=False)"
   ],
   "outputs": [
    {
     "output_type": "stream",
     "name": "stderr",
     "text": [
      "\n",
      "\n",
      "====== WebDriver manager ======\n",
      "Current google-chrome version is 93.0.4577\n",
      "Get LATEST driver version for 93.0.4577\n",
      "Driver [C:\\Users\\steve\\.wdm\\drivers\\chromedriver\\win32\\93.0.4577.15\\chromedriver.exe] found in cache\n"
     ]
    }
   ],
   "metadata": {}
  },
  {
   "cell_type": "code",
   "execution_count": 98,
   "source": [
    "#visit url\r\n",
    "url = \"https://terminalwestatl.com/calendar\"\r\n",
    "request = requests.get(url)\r\n",
    "browser.visit(url)"
   ],
   "outputs": [],
   "metadata": {}
  },
  {
   "cell_type": "code",
   "execution_count": 99,
   "source": [
    "#wait for browser to load calendar into html\r\n",
    "time.sleep(5)"
   ],
   "outputs": [],
   "metadata": {}
  },
  {
   "cell_type": "code",
   "execution_count": 100,
   "source": [
    "#parse HTML\r\n",
    "html = browser.html\r\n",
    "soup = bs(html, \"html.parser\")\r\n",
    "browser.quit()"
   ],
   "outputs": [],
   "metadata": {}
  },
  {
   "cell_type": "code",
   "execution_count": 101,
   "source": [
    "#make lists for dataframe\r\n",
    "event_name = []\r\n",
    "event_desc = []\r\n",
    "event_date = []\r\n",
    "event_time = []\r\n",
    "event_link = []"
   ],
   "outputs": [],
   "metadata": {}
  },
  {
   "cell_type": "code",
   "execution_count": 102,
   "source": [
    "#make list of all the event cards\r\n",
    "results = soup.find_all('div', class_='c-axs-event-card__wrapper')"
   ],
   "outputs": [],
   "metadata": {}
  },
  {
   "cell_type": "code",
   "execution_count": 103,
   "source": [
    "#loop through event cards\r\n",
    "for result in results:\r\n",
    "\r\n",
    "    #find Headlining artist or event title\r\n",
    "    title = result.find('div', class_='c-axs-event-card__title c-axs-event-card__title7124').text\r\n",
    "    #find opening artists and make an event description\r\n",
    "    try:\r\n",
    "        supporting = result.find('div', class_=\"c-axs-event-card__supporting-text c-axs-event-card__supporting-text7124\").text\r\n",
    "        if len(supporting) > 0:\r\n",
    "            description = f'{title} performing with {supporting}'\r\n",
    "    except:\r\n",
    "        supporting = \"\"\r\n",
    "        description = \"n/a\"\r\n",
    "    #find date/time, then split to make a column for each\r\n",
    "    try:\r\n",
    "        date_time = result.find('p', class_='c-axs-event-card__date--showtime7124').text\r\n",
    "        if date_time == \"TBD\":\r\n",
    "            date = \"TBD\"\r\n",
    "            time = 'TBD'\r\n",
    "        else:\r\n",
    "            date = date_time.split(\"2021\")[0].strip()\r\n",
    "            time = date_time.split(\"2021\")[1].strip()\r\n",
    "            date = f'{date} 2021'\r\n",
    "    except:\r\n",
    "        date = \"TBD\"\r\n",
    "        time = 'TBD'\r\n",
    "    #find link\r\n",
    "    url = result.find('a', class_='c-axs-event-card__header c-axs-event-card__header7124')['href']\r\n",
    "    link = f'https://terminalwestatl.com{url}'\r\n",
    "\r\n",
    "    event_name.append(title)\r\n",
    "    event_desc.append(description)\r\n",
    "    event_date.append(date)\r\n",
    "    event_time.append(time)\r\n",
    "    event_link.append(link)\r\n",
    "\r\n",
    "    event = {\r\n",
    "        \"Event_name\":title,\r\n",
    "        \"Event_description\":description,\r\n",
    "        \"Event_date\":date,\r\n",
    "        \"Event_time\":time,\r\n",
    "        \"Event_link\":link\r\n",
    "    }\r\n",
    "    \r\n",
    "    collection.insert_one(event)\r\n"
   ],
   "outputs": [],
   "metadata": {}
  },
  {
   "cell_type": "code",
   "execution_count": 104,
   "source": [
    "#make dataframe\r\n",
    "df = pd.DataFrame({\r\n",
    "    \"Event_name\":event_name,\r\n",
    "    \"Event_description\":event_desc,\r\n",
    "    \"Event_date\":event_date,\r\n",
    "    \"Event_time\":event_time,\r\n",
    "    \"Event_link\":event_link\r\n",
    "})"
   ],
   "outputs": [
    {
     "output_type": "execute_result",
     "data": {
      "text/html": [
       "<div>\n",
       "<style scoped>\n",
       "    .dataframe tbody tr th:only-of-type {\n",
       "        vertical-align: middle;\n",
       "    }\n",
       "\n",
       "    .dataframe tbody tr th {\n",
       "        vertical-align: top;\n",
       "    }\n",
       "\n",
       "    .dataframe thead th {\n",
       "        text-align: right;\n",
       "    }\n",
       "</style>\n",
       "<table border=\"1\" class=\"dataframe\">\n",
       "  <thead>\n",
       "    <tr style=\"text-align: right;\">\n",
       "      <th></th>\n",
       "      <th>Event_name</th>\n",
       "      <th>Event_description</th>\n",
       "      <th>Event_date</th>\n",
       "      <th>Event_time</th>\n",
       "      <th>Event_link</th>\n",
       "    </tr>\n",
       "  </thead>\n",
       "  <tbody>\n",
       "    <tr>\n",
       "      <th>0</th>\n",
       "      <td>Read Southall Band</td>\n",
       "      <td>Read Southall Band performing with Midnight Ri...</td>\n",
       "      <td>Wed, Sep 8, 2021</td>\n",
       "      <td>8:00 PM</td>\n",
       "      <td>https://terminalwestatl.com/events/detail?even...</td>\n",
       "    </tr>\n",
       "    <tr>\n",
       "      <th>1</th>\n",
       "      <td>Town Mountain</td>\n",
       "      <td>Town Mountain performing with Smith &amp; Calvert</td>\n",
       "      <td>Thu, Sep 9, 2021</td>\n",
       "      <td>8:00 PM</td>\n",
       "      <td>https://terminalwestatl.com/events/detail?even...</td>\n",
       "    </tr>\n",
       "    <tr>\n",
       "      <th>2</th>\n",
       "      <td>Marvel Years &amp; Maddy O'Neal</td>\n",
       "      <td>Marvel Years &amp; Maddy O'Neal performing with Pu...</td>\n",
       "      <td>Fri, Sep 10, 2021</td>\n",
       "      <td>9:00 PM</td>\n",
       "      <td>https://terminalwestatl.com/events/detail?even...</td>\n",
       "    </tr>\n",
       "    <tr>\n",
       "      <th>3</th>\n",
       "      <td>Mark Farina</td>\n",
       "      <td>Mark Farina performing with Caleb Wheels</td>\n",
       "      <td>Sat, Sep 11, 2021</td>\n",
       "      <td>9:30 PM</td>\n",
       "      <td>https://terminalwestatl.com/events/detail?even...</td>\n",
       "    </tr>\n",
       "    <tr>\n",
       "      <th>4</th>\n",
       "      <td>Emily King</td>\n",
       "      <td>n/a</td>\n",
       "      <td>Mon, Sep 13, 2021</td>\n",
       "      <td>8:00 PM</td>\n",
       "      <td>https://terminalwestatl.com/events/detail?even...</td>\n",
       "    </tr>\n",
       "  </tbody>\n",
       "</table>\n",
       "</div>"
      ],
      "text/plain": [
       "                    Event_name  \\\n",
       "0           Read Southall Band   \n",
       "1                Town Mountain   \n",
       "2  Marvel Years & Maddy O'Neal   \n",
       "3                  Mark Farina   \n",
       "4                   Emily King   \n",
       "\n",
       "                                   Event_description         Event_date  \\\n",
       "0  Read Southall Band performing with Midnight Ri...   Wed, Sep 8, 2021   \n",
       "1      Town Mountain performing with Smith & Calvert   Thu, Sep 9, 2021   \n",
       "2  Marvel Years & Maddy O'Neal performing with Pu...  Fri, Sep 10, 2021   \n",
       "3           Mark Farina performing with Caleb Wheels  Sat, Sep 11, 2021   \n",
       "4                                                n/a  Mon, Sep 13, 2021   \n",
       "\n",
       "  Event_time                                         Event_link  \n",
       "0    8:00 PM  https://terminalwestatl.com/events/detail?even...  \n",
       "1    8:00 PM  https://terminalwestatl.com/events/detail?even...  \n",
       "2    9:00 PM  https://terminalwestatl.com/events/detail?even...  \n",
       "3    9:30 PM  https://terminalwestatl.com/events/detail?even...  \n",
       "4    8:00 PM  https://terminalwestatl.com/events/detail?even...  "
      ]
     },
     "metadata": {},
     "execution_count": 104
    }
   ],
   "metadata": {}
  },
  {
   "cell_type": "code",
   "execution_count": 106,
   "source": [
    "df.head(5).to_csv(\"terminal_west.csv\")"
   ],
   "outputs": [],
   "metadata": {}
  }
 ],
 "metadata": {
  "orig_nbformat": 4,
  "language_info": {
   "name": "python",
   "version": "3.9.6",
   "mimetype": "text/x-python",
   "codemirror_mode": {
    "name": "ipython",
    "version": 3
   },
   "pygments_lexer": "ipython3",
   "nbconvert_exporter": "python",
   "file_extension": ".py"
  },
  "kernelspec": {
   "name": "python3",
   "display_name": "Python 3.9.6 64-bit ('PythonData': conda)"
  },
  "interpreter": {
   "hash": "3b32922ae442944bae51de5c420d7545d4126864cdc0e7cb358b7d9924f39d3e"
  }
 },
 "nbformat": 4,
 "nbformat_minor": 2
}